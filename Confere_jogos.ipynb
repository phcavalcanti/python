{
  "nbformat": 4,
  "nbformat_minor": 0,
  "metadata": {
    "colab": {
      "provenance": [],
      "authorship_tag": "ABX9TyNKlvmiN6CFCK3MjFNmXjiv",
      "include_colab_link": true
    },
    "kernelspec": {
      "name": "python3",
      "display_name": "Python 3"
    },
    "language_info": {
      "name": "python"
    }
  },
  "cells": [
    {
      "cell_type": "markdown",
      "metadata": {
        "id": "view-in-github",
        "colab_type": "text"
      },
      "source": [
        "<a href=\"https://colab.research.google.com/github/phcavalcanti/python/blob/main/Confere_jogos.ipynb\" target=\"_parent\"><img src=\"https://colab.research.google.com/assets/colab-badge.svg\" alt=\"Open In Colab\"/></a>"
      ]
    },
    {
      "cell_type": "code",
      "execution_count": 1,
      "metadata": {
        "colab": {
          "base_uri": "https://localhost:8080/"
        },
        "id": "o14ga-YBCFss",
        "outputId": "d720be51-ef59-4324-e989-5f8612a82564"
      },
      "outputs": [
        {
          "output_type": "stream",
          "name": "stdout",
          "text": [
            "Collecting colorama\n",
            "  Downloading colorama-0.4.6-py2.py3-none-any.whl (25 kB)\n",
            "Installing collected packages: colorama\n",
            "Successfully installed colorama-0.4.6\n"
          ]
        }
      ],
      "source": [
        "!pip install colorama\n",
        "from colorama import Fore, Back, Style"
      ]
    },
    {
      "cell_type": "code",
      "source": [
        "!pip install emoji --upgrade"
      ],
      "metadata": {
        "id": "8lAUmPCgCX_G"
      },
      "execution_count": null,
      "outputs": []
    },
    {
      "cell_type": "code",
      "source": [
        "def espaco():#funcao espaco para formatacao\n",
        "  print()\n",
        "  print('*=*'*30)\n",
        "  print()\n"
      ],
      "metadata": {
        "id": "T-MROi17CfnB"
      },
      "execution_count": null,
      "outputs": []
    },
    {
      "cell_type": "code",
      "source": [
        "#importando bibliotecas\n",
        "\n",
        "from colorama import Fore#biblioteca de cores\n",
        "from emoji import emojize\n",
        "\n",
        "#declaracao de variaveis.\n",
        "\n",
        "jogos =list()\n",
        "jogo = list()\n",
        "sorteado = list()\n",
        "acertos = 0\n",
        "palpits = 1\n",
        "\n",
        "#preenchendo lista de jogos\n",
        "\n",
        "print('*'*15, 'Seja bem vindo ao verificador de jogos da mega sena','*'*15)\n",
        "print()\n",
        "print('Vamos começar pelos jogos feitos por você.')\n",
        "print()\n",
        "while True:\n",
        "  print(f'{palpits} º jogo: \\n')\n",
        "  while len(jogo) < 6:\n",
        "    num = int(input('Insira o número: \\n'))\n",
        "    jogo.append(num)\n",
        "  print()\n",
        "  print(f'{palpits}ºjogo:\\n{jogo}')\n",
        "  jogos.append(jogo[:])#add jogo feito à lista de jogos\n",
        "  jogo.clear()#limpando memoria\n",
        "  palpits += 1\n",
        "  print()\n",
        "  continua = str(input('Deseja inserir mais um jogo? s/n \\n')).lower().strip()[0]\n",
        "  print()\n",
        "  if continua == 'n':\n",
        "    break\n",
        "espaco()\n",
        "print('Jogos feitos por você:')\n",
        "print(jogos)\n",
        "\n",
        "espaco()\n",
        "\n",
        "#preenchendo lista de jogo sorteado\n",
        "print('Agora, preencha os números sorteados pela loteria federal...')\n",
        "print()\n",
        "print('SORTEIO DA MEGA SENA: ')\n",
        "print()\n",
        "while len(sorteado) < 6:\n",
        "  num = int(input('Insira o número: \\n'))\n",
        "  print()\n",
        "  sorteado.append(num)\n",
        "print()\n",
        "print('Sorteio da megasena: \\n')\n",
        "print()\n",
        "print(sorteado)\n",
        "\n",
        "\n",
        "#verificando número de acertos de cada jogo\n",
        "espaco()\n",
        "print('VERIFICANDO ACERTOS: \\n')\n",
        "print()\n",
        "\n",
        "\n",
        "for palpite in jogos:#vai entrar na lista de jogos, selecionando cada lista\n",
        "  for numero in palpite:#vai pegar cada número da cada jogo\n",
        "    if numero in sorteado:\n",
        "      acertos += 1#incremento para cada acerto\n",
        "\n",
        "  print(f\"\\033[1mJOGO:{palpite}\\033[m\")\n",
        "  print(Fore.GREEN +f'ACERTOS:{acertos}')\n",
        "  print(Style.RESET_ALL)\n",
        "  espaco()\n",
        "\n",
        "\n",
        "### verificando e notificando em caso de quadra, quina ou sena\n",
        "  if acertos == 4:\n",
        "    print(Fore.GREEN + f'\\033[1mVocê acertou {acertos} números, VOCÊ GANHOU A QUADRA!!\\033[m]')\n",
        "    print(emojize(':red_heart:')*1)\n",
        "    print(Style.RESET_ALL)\n",
        "    espaco()\n",
        "\n",
        "  elif acertos == 5:\n",
        "    print(Fore.GREEN + f'\\033[1mVocê acertou {acertos} números, VOCÊ GANHOU A QUINA!!\\033[m')\n",
        "    print(emojize(':red_heart:')*2)\n",
        "    print(Style.RESET_ALL)\n",
        "    espaco()\n",
        "\n",
        "\n",
        "  elif acertos == 6:\n",
        "    print(Fore.GREEN + f'\\033[1mVocê acertou {acertos} números, VOCÊ GANHOU A MEGA SENA!!\\033[m')\n",
        "    print(emojize(':red_heart:')*3)\n",
        "    print(Style.RESET_ALL)\n",
        "    espaco()\n",
        "\n",
        "  acertos = 0#zerando o contador de acertos para a proxima verificação\n",
        "\n",
        "espaco()\n",
        "print('Encerrando programa. ')\n",
        "\n",
        "\n"
      ],
      "metadata": {
        "id": "XePmWNV9CgyR"
      },
      "execution_count": null,
      "outputs": []
    }
  ]
}