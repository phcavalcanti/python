{
  "nbformat": 4,
  "nbformat_minor": 0,
  "metadata": {
    "colab": {
      "provenance": [],
      "authorship_tag": "ABX9TyMGJCqsSZcaXJ4kIl6GE1BN",
      "include_colab_link": true
    },
    "kernelspec": {
      "name": "python3",
      "display_name": "Python 3"
    },
    "language_info": {
      "name": "python"
    }
  },
  "cells": [
    {
      "cell_type": "markdown",
      "metadata": {
        "id": "view-in-github",
        "colab_type": "text"
      },
      "source": [
        "<a href=\"https://colab.research.google.com/github/phcavalcanti/python/blob/main/criador__jogos_megasena_mais_sorteados.ipynb\" target=\"_parent\"><img src=\"https://colab.research.google.com/assets/colab-badge.svg\" alt=\"Open In Colab\"/></a>"
      ]
    },
    {
      "cell_type": "code",
      "execution_count": null,
      "metadata": {
        "id": "9oQn03pTAVZa"
      },
      "outputs": [],
      "source": [
        "from random import choices\n",
        "\n",
        "mais_sorteados = [1, 3, 4, 5, 10, 11, 12, 13, 14, 15, 16, 17, 18, 19, 20, 21, 22,\n",
        "                  23, 24, 25, 26, 27, 28, 29, 30, 31, 32, 33, 34, 35,\n",
        "                  36, 37, 38, 39, 40, 41, 42, 43, 44, 45, 46, 47, 48,\n",
        "                  49, 50 , 51]\n",
        "\n",
        "jogo = list()\n",
        "jogos =list()\n",
        "\n",
        "for i in range(0,23):\n",
        "\n",
        "  for n in range(0,6):\n",
        "    num = choices(mais_sorteados)\n",
        "    if num not in jogo:\n",
        "      jogo.append(num)\n",
        "\n",
        "    else:\n",
        "      num = choices(mais_sorteados)\n",
        "      jogo.append(num)\n",
        "\n",
        "\n",
        "  jogos.append(jogo[:])\n",
        "  jogo.clear()\n",
        "\n",
        "print('Jogos sorteados:')\n",
        "for jogo in jogos:\n",
        "\n",
        "  print(jogo)\n",
        "\n",
        "\n",
        "for jogo in range(0,2):\n",
        "  escolhido = choices(jogos)\n",
        "\n",
        "  print('Jogo escolhido:')\n",
        "  print(escolhido)"
      ]
    }
  ]
}