{
  "nbformat": 4,
  "nbformat_minor": 0,
  "metadata": {
    "colab": {
      "provenance": [],
      "toc_visible": true,
      "authorship_tag": "ABX9TyONTCN3QLUj4wDzEbSKACKr",
      "include_colab_link": true
    },
    "kernelspec": {
      "name": "python3",
      "display_name": "Python 3"
    },
    "language_info": {
      "name": "python"
    }
  },
  "cells": [
    {
      "cell_type": "markdown",
      "metadata": {
        "id": "view-in-github",
        "colab_type": "text"
      },
      "source": [
        "<a href=\"https://colab.research.google.com/github/phcavalcanti/python/blob/main/GERADOR_JOGOS_MEGASENA.ipynb\" target=\"_parent\"><img src=\"https://colab.research.google.com/assets/colab-badge.svg\" alt=\"Open In Colab\"/></a>"
      ]
    },
    {
      "cell_type": "markdown",
      "source": [
        "### PREMIAÇÃO"
      ],
      "metadata": {
        "id": "ymf8xAdHQVJK"
      }
    },
    {
      "cell_type": "markdown",
      "source": [
        "Premiação\n",
        "O prêmio bruto corresponde a 43,35% da arrecadação. Dessa porcentagem:\n",
        "\n",
        "• 35% são distribuídos entre os acertadores dos 6 números sorteados (Sena);\n",
        "\n",
        "• 19% entre os acertadores de 5 números (Quina);\n",
        "\n",
        "• 19% entre os acertadores de 4 números (Quadra);\n",
        "\n",
        "• 22% ficam acumulados e são distribuídos aos acertadores dos 6 números nos concursos de final 0 ou 5.\n",
        "\n",
        "• 5% ficam acumulados para a primeira faixa - sena - do último concurso do ano de final 0 ou 5 (Mega da Virada)."
      ],
      "metadata": {
        "id": "FKZEgxx1QY4d"
      }
    },
    {
      "cell_type": "markdown",
      "source": [
        "**GERADOR JOGOS MEGA SENA**"
      ],
      "metadata": {
        "id": "Y1CAJ1ymFlyS"
      }
    },
    {
      "cell_type": "code",
      "source": [
        "#RACIOCINIO:\n",
        "#randint para gerar numeros de 1 a 60, qtd para saber numero de jogos a serem feitos\n",
        "#criar laco para impedir repeticoes no mesmo jogo\n",
        "import random #GERADOR DE NUMEROS ALEATORIOS\n",
        "random.seed(12091958+)\n",
        "palpites =[]\n",
        "jogo = []\n",
        "\n",
        "qtd = int(input('Quantos palpites você deseja? : '))\n",
        "\n",
        "for i in range(0,qtd):#Vai repetir o numero de vezes do imput\n",
        "  while len(jogo) < 6:#vai repetir enquanto nao dar 6 numeros no jogo\n",
        "    num = random.randint(1,60)\n",
        "    if num not in jogo:#para evitar de sortear o mesmo numero e ser incluido no palpite\n",
        "      jogo.append(num)\n",
        "\n",
        "  palpites.append(jogo[:])\n",
        "  jogo.clear()#limpando memoria para colocar o novo jogo\n",
        "  ()\n",
        "\n",
        "print('=-'*30)\n",
        "print('PALPITES: ')\n",
        "for i in range (0,qtd):\n",
        "  print(f'{sorted(palpites[i])}')\n"
      ],
      "metadata": {
        "colab": {
          "base_uri": "https://localhost:8080/"
        },
        "id": "DQ2Hq-gXFvjO",
        "outputId": "33797d49-e8c0-4cb6-d75d-4ae4b4dbabb3"
      },
      "execution_count": null,
      "outputs": [
        {
          "output_type": "stream",
          "name": "stdout",
          "text": [
            "Quantos palpites você deseja? : 2\n",
            "=-=-=-=-=-=-=-=-=-=-=-=-=-=-=-=-=-=-=-=-=-=-=-=-=-=-=-=-=-=-\n",
            "PALPITES: \n",
            "[3, 18, 22, 45, 46, 48]\n",
            "[6, 11, 13, 41, 49, 53]\n"
          ]
        }
      ]
    },
    {
      "cell_type": "code",
      "source": [
        "!pip install colorama\n",
        "from colorama import Fore, Back, Style"
      ],
      "metadata": {
        "colab": {
          "base_uri": "https://localhost:8080/"
        },
        "id": "R_CPc3QMM2Ag",
        "outputId": "9fe690af-5c40-4085-d83c-507af35ae573"
      },
      "execution_count": null,
      "outputs": [
        {
          "output_type": "stream",
          "name": "stdout",
          "text": [
            "Collecting colorama\n",
            "  Downloading colorama-0.4.6-py2.py3-none-any.whl (25 kB)\n",
            "Installing collected packages: colorama\n",
            "Successfully installed colorama-0.4.6\n"
          ]
        }
      ]
    },
    {
      "cell_type": "code",
      "source": [
        "!pip install emoji --upgrade"
      ],
      "metadata": {
        "colab": {
          "base_uri": "https://localhost:8080/"
        },
        "id": "GU3yiXI0SRXe",
        "outputId": "6cd9e939-317e-432c-e128-2d964b56ea30"
      },
      "execution_count": null,
      "outputs": [
        {
          "output_type": "stream",
          "name": "stdout",
          "text": [
            "Collecting emoji\n",
            "  Downloading emoji-2.8.0-py2.py3-none-any.whl (358 kB)\n",
            "\u001b[?25l     \u001b[90m━━━━━━━━━━━━━━━━━━━━━━━━━━━━━━━━━━━━━━━━\u001b[0m \u001b[32m0.0/358.9 kB\u001b[0m \u001b[31m?\u001b[0m eta \u001b[36m-:--:--\u001b[0m\r\u001b[2K     \u001b[91m━━━━━━━━━━━━━━━━━━━━━━━━━━━━\u001b[0m\u001b[91m╸\u001b[0m\u001b[90m━━━━━━━━━━━\u001b[0m \u001b[32m256.0/358.9 kB\u001b[0m \u001b[31m7.4 MB/s\u001b[0m eta \u001b[36m0:00:01\u001b[0m\r\u001b[2K     \u001b[90m━━━━━━━━━━━━━━━━━━━━━━━━━━━━━━━━━━━━━━━━\u001b[0m \u001b[32m358.9/358.9 kB\u001b[0m \u001b[31m7.1 MB/s\u001b[0m eta \u001b[36m0:00:00\u001b[0m\n",
            "\u001b[?25hInstalling collected packages: emoji\n",
            "Successfully installed emoji-2.8.0\n"
          ]
        }
      ]
    },
    {
      "cell_type": "code",
      "source": [
        "from emoji import emojize\n",
        "print(emojize(''))\n",
        "print(emojize(':red_heart:'))\n",
        "print(emojize(':red_heart:')*3)"
      ],
      "metadata": {
        "colab": {
          "base_uri": "https://localhost:8080/"
        },
        "id": "O2FyL6QXSwpZ",
        "outputId": "1892e6fb-2526-4ae5-cf96-4bbccddeff28"
      },
      "execution_count": null,
      "outputs": [
        {
          "output_type": "stream",
          "name": "stdout",
          "text": [
            "\n",
            "❤️\n",
            ":money_mouth_face::money_mouth_face::money_mouth_face:\n"
          ]
        }
      ]
    },
    {
      "cell_type": "markdown",
      "source": [
        "#PROGRAMA"
      ],
      "metadata": {
        "id": "g2ZppHXVYlfw"
      }
    },
    {
      "cell_type": "code",
      "source": [
        "def espaco():#funcao espaco para formatacao\n",
        "  print()\n",
        "  print('*=*'*30)\n",
        "  print()\n",
        "\n"
      ],
      "metadata": {
        "id": "M1M7uMfBZGsw"
      },
      "execution_count": null,
      "outputs": []
    },
    {
      "cell_type": "code",
      "source": [
        "#funcao lista de jogos\n",
        "\n",
        "def jogados():\n",
        "  palpits = 1\n",
        "  jogo = list()\n",
        "  jogos = list()\n",
        "\n",
        "  while True:\n",
        "    print(f'{palpits} º jogo: \\n')\n",
        "    while len(jogo) < 6:\n",
        "      num = int(input('Insira o número: \\n'))\n",
        "\n",
        "      jogo.append(num)\n",
        "    print()\n",
        "    print(f'{palpits}ºjogo:\\n{jogo}')\n",
        "    jogos.append(jogo[:])#add jogo feito à lista de jogos\n",
        "    jogo.clear()#limpando memoria\n",
        "    palpits += 1\n",
        "    print()\n",
        "    continua = str(input('Deseja inserir mais um jogo? s/n \\n')).lower().strip()[0]\n",
        "    print()\n",
        "    if continua == 'n':\n",
        "      break\n",
        "\n",
        "  return jogos\n"
      ],
      "metadata": {
        "id": "JC6PY0DMaWcF"
      },
      "execution_count": null,
      "outputs": []
    },
    {
      "cell_type": "code",
      "source": [
        "#importando bibliotecas\n",
        "\n",
        "from colorama import Fore#biblioteca de cores\n",
        "from emoji import emojize\n",
        "\n",
        "#declaracao de variaveis.\n",
        "\n",
        "jogos =list()\n",
        "jogo = list()\n",
        "sorteado = list()\n",
        "acertos = 0\n",
        "palpits = 1\n",
        "\n",
        "#preenchendo lista de jogos\n",
        "\n",
        "print('*'*15, 'Seja bem vindo ao verificador de jogos da mega sena','*'*15)\n",
        "print()\n",
        "print('Vamos começar pelos jogos feitos por você.')\n",
        "print()\n",
        "while True:\n",
        "  print(f'{palpits} º jogo: \\n')\n",
        "  while len(jogo) < 6:\n",
        "    num = int(input('Insira o número: \\n'))\n",
        "    jogo.append(num)\n",
        "  print()\n",
        "  print(f'{palpits}ºjogo:\\n{jogo}')\n",
        "  jogos.append(jogo[:])#add jogo feito à lista de jogos\n",
        "  jogo.clear()#limpando memoria\n",
        "  palpits += 1\n",
        "  print()\n",
        "  continua = str(input('Deseja inserir mais um jogo? s/n \\n')).lower().strip()[0]\n",
        "  print()\n",
        "  if continua == 'n':\n",
        "    break\n",
        "espaco()\n",
        "print('Jogos feitos por você:')\n",
        "print(jogos)\n",
        "\n",
        "espaco()\n",
        "\n",
        "#preenchendo lista de jogo sorteado\n",
        "print('Agora, preencha os números sorteados pela loteria federal...')\n",
        "print()\n",
        "print('SORTEIO DA MEGA SENA: ')\n",
        "print()\n",
        "while len(sorteado) < 6:\n",
        "  num = int(input('Insira o número: \\n'))\n",
        "  print()\n",
        "  sorteado.append(num)\n",
        "print()\n",
        "print('Sorteio da megasena: \\n')\n",
        "print()\n",
        "print(sorteado)\n",
        "\n",
        "\n",
        "#verificando número de acertos de cada jogo\n",
        "espaco()\n",
        "print('VERIFICANDO ACERTOS: \\n')\n",
        "print()\n",
        "\n",
        "\n",
        "for palpite in jogos:#vai entrar na lista de jogos, selecionando cada lista\n",
        "  for numero in palpite:#vai pegar cada número da cada jogo\n",
        "    if numero in sorteado:\n",
        "      acertos += 1#incremento para cada acerto\n",
        "\n",
        "  print(f\"\\033[1mJOGO:{palpite}\\033[m\")\n",
        "  print(Fore.GREEN +f'ACERTOS:{acertos}')\n",
        "  print(Style.RESET_ALL)\n",
        "  espaco()\n",
        "\n",
        "\n",
        "### verificando e notificando em caso de quadra, quina ou sena\n",
        "  if acertos == 4:\n",
        "    print(Fore.GREEN + f'\\033[1mVocê acertou {acertos} números, VOCÊ GANHOU A QUADRA!!\\033[m]')\n",
        "    print(emojize(':red_heart:')*1)\n",
        "    print(Style.RESET_ALL)\n",
        "    espaco()\n",
        "\n",
        "  elif acertos == 5:\n",
        "    print(Fore.GREEN + f'\\033[1mVocê acertou {acertos} números, VOCÊ GANHOU A QUINA!!\\033[m')\n",
        "    print(emojize(':red_heart:')*2)\n",
        "    print(Style.RESET_ALL)\n",
        "    espaco()\n",
        "\n",
        "\n",
        "  elif acertos == 6:\n",
        "    print(Fore.GREEN + f'\\033[1mVocê acertou {acertos} números, VOCÊ GANHOU A MEGA SENA!!\\033[m')\n",
        "    print(emojize(':red_heart:')*3)\n",
        "    print(Style.RESET_ALL)\n",
        "    espaco()\n",
        "\n",
        "  acertos = 0#zerando o contador de acertos para a proxima verificação\n",
        "\n",
        "espaco()\n",
        "print('Encerrando programa. ')\n",
        "\n",
        "\n"
      ],
      "metadata": {
        "colab": {
          "base_uri": "https://localhost:8080/"
        },
        "id": "Qr1ISPFNAKwh",
        "outputId": "3f422bfe-0b2d-4b1a-851d-f85c13a80c8e"
      },
      "execution_count": null,
      "outputs": [
        {
          "output_type": "stream",
          "name": "stdout",
          "text": [
            "*************** Seja bem vindo ao verificador de jogos da mega sena ***************\n",
            "\n",
            "Vamos começar pelos jogos feitos por você.\n",
            "\n",
            "1 º jogo: \n",
            "\n",
            "Insira o número: \n",
            "1\n",
            "Insira o número: \n",
            "2\n",
            "Insira o número: \n",
            "3\n",
            "Insira o número: \n",
            "4\n",
            "Insira o número: \n",
            "5\n",
            "Insira o número: \n",
            "6\n",
            "\n",
            "1ºjogo:\n",
            "[1, 2, 3, 4, 5, 6]\n",
            "\n",
            "Deseja inserir mais um jogo? s/n \n",
            "n\n",
            "\n",
            "\n",
            "*=**=**=**=**=**=**=**=**=**=**=**=**=**=**=**=**=**=**=**=**=**=**=**=**=**=**=**=**=**=*\n",
            "\n",
            "Jogos feitos por você:\n",
            "[[1, 2, 3, 4, 5, 6]]\n",
            "\n",
            "*=**=**=**=**=**=**=**=**=**=**=**=**=**=**=**=**=**=**=**=**=**=**=**=**=**=**=**=**=**=*\n",
            "\n",
            "Agora, preencha os números sorteados pela loteria federal...\n",
            "\n",
            "SORTEIO DA MEGA SENA: \n",
            "\n",
            "Insira o número: \n",
            "1\n",
            "\n",
            "Insira o número: \n",
            "2\n",
            "\n",
            "Insira o número: \n",
            "3\n",
            "\n",
            "Insira o número: \n",
            "4\n",
            "\n",
            "Insira o número: \n",
            "5\n",
            "\n",
            "Insira o número: \n",
            "6\n",
            "\n",
            "\n",
            "Sorteio da megasena: \n",
            "\n",
            "\n",
            "[1, 2, 3, 4, 5, 6]\n",
            "\n",
            "*=**=**=**=**=**=**=**=**=**=**=**=**=**=**=**=**=**=**=**=**=**=**=**=**=**=**=**=**=**=*\n",
            "\n",
            "VERIFICANDO ACERTOS: \n",
            "\n",
            "\n",
            "\u001b[1mJOGO:[1, 2, 3, 4, 5, 6]\u001b[m\n",
            "\u001b[32mACERTOS:6\n",
            "\u001b[0m\n",
            "\n",
            "*=**=**=**=**=**=**=**=**=**=**=**=**=**=**=**=**=**=**=**=**=**=**=**=**=**=**=**=**=**=*\n",
            "\n",
            "\u001b[32m\u001b[1mVocê acertou 6 números, VOCÊ GANHOU A MEGA SENA!!\u001b[m\n",
            "❤️❤️❤️\n",
            "\u001b[0m\n",
            "\n",
            "*=**=**=**=**=**=**=**=**=**=**=**=**=**=**=**=**=**=**=**=**=**=**=**=**=**=**=**=**=**=*\n",
            "\n",
            "\n",
            "*=**=**=**=**=**=**=**=**=**=**=**=**=**=**=**=**=**=**=**=**=**=**=**=**=**=**=**=**=**=*\n",
            "\n",
            "Encerrando programa. \n"
          ]
        }
      ]
    },
    {
      "cell_type": "code",
      "source": [
        "while True:\n",
        "  print(f'{palpits} º jogo: \\n')\n",
        "  while len(jogo) < 6:\n",
        "    num = int(input('Insira o número: \\n'))\n",
        "\n",
        "    jogo.append(num)\n",
        "  print()\n",
        "  print(f'{palpits}ºjogo:\\n{jogo}')\n",
        "  jogos.append(jogo[:])#add jogo feito à lista de jogos\n",
        "  jogo.clear()#limpando memoria\n",
        "  palpits += 1\n",
        "  print()\n",
        "  continua = str(input('Deseja inserir mais um jogo? s/n \\n')).lower().strip()[0]\n",
        "  print()\n",
        "  if continua == 'n':\n",
        "    break"
      ],
      "metadata": {
        "id": "vvk6waGdbFK8"
      },
      "execution_count": null,
      "outputs": []
    }
  ]
}