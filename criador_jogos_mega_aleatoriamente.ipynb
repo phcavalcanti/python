{
  "nbformat": 4,
  "nbformat_minor": 0,
  "metadata": {
    "colab": {
      "provenance": [],
      "authorship_tag": "ABX9TyP2TJ2rP+UzNThg10gufn7V",
      "include_colab_link": true
    },
    "kernelspec": {
      "name": "python3",
      "display_name": "Python 3"
    },
    "language_info": {
      "name": "python"
    }
  },
  "cells": [
    {
      "cell_type": "markdown",
      "metadata": {
        "id": "view-in-github",
        "colab_type": "text"
      },
      "source": [
        "<a href=\"https://colab.research.google.com/github/phcavalcanti/python/blob/main/criador_jogos_mega_aleatoriamente.ipynb\" target=\"_parent\"><img src=\"https://colab.research.google.com/assets/colab-badge.svg\" alt=\"Open In Colab\"/></a>"
      ]
    },
    {
      "cell_type": "code",
      "execution_count": null,
      "metadata": {
        "id": "8Tv1Nf7AC9Nj"
      },
      "outputs": [],
      "source": [
        "#RACIOCINIO:\n",
        "#randint para gerar numeros de 1 a 60, qtd para saber numero de jogos a serem feitos\n",
        "#criar laco para impedir repeticoes no mesmo jogo\n",
        "import random #GERADOR DE NUMEROS ALEATORIOS\n",
        "random.seed(12091958+)\n",
        "palpites =[]\n",
        "jogo = []\n",
        "\n",
        "qtd = int(input('Quantos palpites você deseja? : '))\n",
        "\n",
        "for i in range(0,qtd):#Vai repetir o numero de vezes do imput\n",
        "  while len(jogo) < 6:#vai repetir enquanto nao dar 6 numeros no jogo\n",
        "    num = random.randint(1,60)\n",
        "    if num not in jogo:#para evitar de sortear o mesmo numero e ser incluido no palpite\n",
        "      jogo.append(num)\n",
        "\n",
        "  palpites.append(jogo[:])\n",
        "  jogo.clear()#limpando memoria para colocar o novo jogo\n",
        "  ()\n",
        "\n",
        "print('=-'*30)\n",
        "print('PALPITES: ')\n",
        "for i in range (0,qtd):\n",
        "  print(f'{sorted(palpites[i])}')\n"
      ]
    }
  ]
}